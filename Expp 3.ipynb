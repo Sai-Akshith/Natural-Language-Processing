{
 "cells": [
  {
   "cell_type": "code",
   "execution_count": 2,
   "id": "ac0c0c43-64c5-44f6-b067-0c9d833f7085",
   "metadata": {},
   "outputs": [],
   "source": [
    "import nltk\n",
    "from nltk.tokenize import word_tokenize\n",
    "from nltk.corpus import stopwords\n",
    "import math"
   ]
  },
  {
   "cell_type": "code",
   "execution_count": 30,
   "id": "cbbd460c-2f86-4552-93e5-0950fb0f78b4",
   "metadata": {},
   "outputs": [
    {
     "name": "stdin",
     "output_type": "stream",
     "text": [
      "Enter the number of varient senses:  2\n",
      "\n",
      "Sense:  cat\n",
      "Enter the number of sentences that associated with the sense cat:  1\n",
      "Enter the sentence:  It belongs to tiger family\n",
      "\n",
      "Sense:  dog\n",
      "Enter the number of sentences that associated with the sense dog:  1\n",
      "Enter the sentence:  It barks\n"
     ]
    },
    {
     "name": "stdout",
     "output_type": "stream",
     "text": [
      "dict_items([('cat', ['It', 'belongs', 'tiger', 'family']), ('dog', ['It', 'barks'])])\n",
      "\n",
      "dict_items([('cat', 1), ('dog', 1)])\n"
     ]
    }
   ],
   "source": [
    "count = int(input('Enter the number of varient senses: '))\n",
    "sense_word_pair = {}\n",
    "sense_count = {}\n",
    "while(count):\n",
    "    sense = input('\\nSense: ')\n",
    "    sense_word_pair[sense] = []\n",
    "    n = int(input(f'Enter the number of sentences that associated with the sense {sense}: '))\n",
    "    sense_count[sense] = n\n",
    "    while(n):\n",
    "        sentence = input('Enter the sentence: ')\n",
    "        tokenized_sentence = word_tokenize(sentence)\n",
    "        stopword = set(stopwords.words('english'))\n",
    "        for i in tokenized_sentence:\n",
    "            if i not in stopword and i not in [\",\", \".\", \"(\", \")\", \"?\"] and i.isalpha():\n",
    "                sense_word_pair[sense].append(i)\n",
    "        n -= 1\n",
    "    count -= 1\n",
    "print(sense_word_pair.items(), end = \"\\n\\n\")\n",
    "print(sense_count.items())"
   ]
  },
  {
   "cell_type": "code",
   "execution_count": 31,
   "id": "d870d3b5-3283-49de-aac2-e93350b78005",
   "metadata": {},
   "outputs": [],
   "source": [
    "from collections import Counter"
   ]
  },
  {
   "cell_type": "code",
   "execution_count": 32,
   "id": "02c64a22-0248-41ed-ab79-7654d7e034d7",
   "metadata": {},
   "outputs": [
    {
     "name": "stdout",
     "output_type": "stream",
     "text": [
      "dict_items([('cat', Counter({'It': 1, 'belongs': 1, 'tiger': 1, 'family': 1})), ('dog', Counter({'It': 1, 'barks': 1}))])\n"
     ]
    }
   ],
   "source": [
    "wordpair_count = {}\n",
    "for sense, word in sense_word_pair.items():\n",
    "    counter = Counter(word)\n",
    "    wordpair_count[sense] = counter\n",
    "print(wordpair_count.items())"
   ]
  },
  {
   "cell_type": "code",
   "execution_count": 33,
   "id": "6eb6464f-f1e2-4958-a4b9-91c5b89e3814",
   "metadata": {},
   "outputs": [
    {
     "name": "stdout",
     "output_type": "stream",
     "text": [
      "6\n"
     ]
    }
   ],
   "source": [
    "vocabulary = 0\n",
    "for i in wordpair_count:\n",
    "    vocabulary += len(wordpair_count[i])\n",
    "print(vocabulary)"
   ]
  },
  {
   "cell_type": "code",
   "execution_count": 34,
   "id": "81cabe9a-8e6f-422a-8a27-c0338807e3be",
   "metadata": {},
   "outputs": [
    {
     "name": "stdout",
     "output_type": "stream",
     "text": [
      "dict_items([(('It', 'cat'), 0.2857142857142857), (('belongs', 'cat'), 0.2857142857142857), (('tiger', 'cat'), 0.2857142857142857), (('family', 'cat'), 0.2857142857142857), (('It', 'dog'), 0.2857142857142857), (('barks', 'dog'), 0.2857142857142857)])\n"
     ]
    }
   ],
   "source": [
    "wordpair_prob = {}\n",
    "for sense, words in wordpair_count.items():\n",
    "    for word, count in words.items():\n",
    "        wordpair_prob[(word, sense)] = (wordpair_count[sense][word] + 1) / (vocabulary + sense_count[sense])\n",
    "print(wordpair_prob.items())"
   ]
  },
  {
   "cell_type": "code",
   "execution_count": 36,
   "id": "04b5f1d0-31e6-4d03-ada8-83a18d4a0d02",
   "metadata": {},
   "outputs": [
    {
     "name": "stdin",
     "output_type": "stream",
     "text": [
      "Enter the sentence to find the sense of it:  Someone is inside be careful\n"
     ]
    },
    {
     "name": "stdout",
     "output_type": "stream",
     "text": [
      "Sense of 'Someone is inside be careful' is  dog\n"
     ]
    }
   ],
   "source": [
    "test_sentence = input('Enter the sentence to find the sense of it: ')\n",
    "sentence_token = word_tokenize(test_sentence)\n",
    "removed_stopword = []\n",
    "for j in sentence_token:\n",
    "    if j not in stopword and j not in [\",\", \".\", \"(\", \")\", \"?\"] and j.isalpha():\n",
    "        removed_stopword.append(j)\n",
    "test_prob = {}\n",
    "for sense in sense_count:\n",
    "    prob_value = math.log2(sense_count[sense] / sum(sense_count.values()))\n",
    "    for word in removed_stopword:\n",
    "        if (word, sense) not in wordpair_prob.keys():\n",
    "            prob_value += math.log2(1 / (vocabulary + sense_count[sense]))\n",
    "        else:\n",
    "            prob_value += math.log2(wordpair_prob[(word, sense)])\n",
    "    test_prob[prob_value] = sense\n",
    "print(f'Sense of \\'{test_sentence}\\' is ', test_prob[max(test_prob.keys())])"
   ]
  },
  {
   "cell_type": "code",
   "execution_count": null,
   "id": "dc622a4b-0c69-49e6-b559-cdfbe96cf34f",
   "metadata": {},
   "outputs": [],
   "source": []
  }
 ],
 "metadata": {
  "kernelspec": {
   "display_name": "Python 3 (ipykernel)",
   "language": "python",
   "name": "python3"
  },
  "language_info": {
   "codemirror_mode": {
    "name": "ipython",
    "version": 3
   },
   "file_extension": ".py",
   "mimetype": "text/x-python",
   "name": "python",
   "nbconvert_exporter": "python",
   "pygments_lexer": "ipython3",
   "version": "3.12.2"
  }
 },
 "nbformat": 4,
 "nbformat_minor": 5
}
