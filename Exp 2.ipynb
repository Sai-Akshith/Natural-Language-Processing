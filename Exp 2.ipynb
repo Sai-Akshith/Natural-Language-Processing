{
 "cells": [
  {
   "cell_type": "code",
   "execution_count": 5,
   "id": "5de5a120-bc84-465d-93e8-333a8e1e663f",
   "metadata": {},
   "outputs": [
    {
     "name": "stdout",
     "output_type": "stream",
     "text": [
      "SASTRA University forms a collocation\n",
      "T-test statistic for 'sastra university': -18.590825088229\n"
     ]
    }
   ],
   "source": [
    "import pandas as pd\n",
    "import re  # The re module in Python is primarily used for matching patterns in strings\n",
    "from collections import Counter\n",
    "import math\n",
    "\n",
    "def preprocess_text(text):\n",
    "    return re.sub(r'\\W+', ' ', text.lower())\n",
    "\n",
    "# Assuming the file path is correct\n",
    "excel_data = pd.read_excel(\"C:\\\\Users\\\\91939\\\\Dropbox\\\\Sem 5\\\\NLP\\\\LAB\\\\SASTRA University.xlsx\")\n",
    "all_text = ' '.join(excel_data.iloc[:, 0].apply(preprocess_text))\n",
    "\n",
    "# Tokenize and count word frequencies\n",
    "words = all_text.split()\n",
    "word_freq = Counter(words)\n",
    "pair_freq = Counter(zip(words, words[1:]))\n",
    "\n",
    "def t_test(word1, word2, word_freq, pair_freq):\n",
    "    f_w1 = word_freq[word1]\n",
    "    f_w2 = word_freq[word2]\n",
    "    f_w1w2 = pair_freq[(word1, word2)]\n",
    "\n",
    "    # Mean and standard deviation calculations\n",
    "    mean_w1 = f_w1w2\n",
    "    mean_w2 = (f_w1 + f_w2) / 2\n",
    "    std_w1 = math.sqrt(f_w1w2 * (1 - (f_w1w2 / f_w1))) if f_w1 > 0 else 0\n",
    "    std_w2 = math.sqrt(f_w1w2 * (1 - (f_w1w2 / f_w2))) if f_w2 > 0 else 0\n",
    "\n",
    "    # Check and calculate t-test statistic\n",
    "    if f_w1 > 0 and f_w2 > 0 and std_w1 > 0 and std_w2 > 0:\n",
    "        t_stat = (mean_w1 - mean_w2) / math.sqrt((std_w1**2 / f_w1) + (std_w2**2 / f_w2))\n",
    "        return t_stat\n",
    "    return 0\n",
    "\n",
    "# Define words to test\n",
    "word1, word2 = 'sastra', 'university'\n",
    "t_stat = t_test(word1, word2, word_freq, pair_freq)\n",
    "\n",
    "# Evaluate collocation based on t-test statistic\n",
    "if abs(t_stat) > 2.576:\n",
    "    print('SASTRA University forms a collocation')\n",
    "else:\n",
    "    print('SASTRA University does not form a collocation')\n",
    "\n",
    "print(f\"T-test statistic for '{word1} {word2}': {t_stat}\")\n"
   ]
  },
  {
   "cell_type": "code",
   "execution_count": 7,
   "id": "46493ded-4f23-4223-99df-2b13c1193b32",
   "metadata": {},
   "outputs": [
    {
     "name": "stdout",
     "output_type": "stream",
     "text": [
      "Chi-square value for 'sastra university': 345.40016059957173\n",
      "'sastra university' forms a collocation with chi-square value  345.40016059957173\n"
     ]
    }
   ],
   "source": [
    "import pandas as pd\n",
    "import numpy as np\n",
    "from collections import Counter\n",
    "\n",
    "# Load data from the Excel file\n",
    "df = pd.read_excel(\"C:\\\\Users\\\\91939\\\\Dropbox\\\\Sem 5\\\\NLP\\\\LAB\\\\SASTRA University.xlsx\")\n",
    "\n",
    "# Tokenization function\n",
    "def s_tokenize(text):\n",
    "    return text.lower().split()\n",
    "\n",
    "# Count bigrams and unigrams\n",
    "bigram_counts = Counter()\n",
    "unigram_counts = Counter()\n",
    "for sentence in df.iloc[:, 0]:  # Assuming the first column contains sentences\n",
    "    tokens = s_tokenize(sentence)\n",
    "    unigram_counts.update(tokens)\n",
    "    for i in range(len(tokens) - 1):\n",
    "        bigram = (tokens[i], tokens[i + 1])\n",
    "        bigram_counts[bigram] += 1\n",
    "\n",
    "# Total number of words\n",
    "N = sum(unigram_counts.values())\n",
    "\n",
    "# Chi-square test function\n",
    "def chi_2_text(w1, w2, c1, c2, c12):\n",
    "    # Observed frequencies\n",
    "    a = c12\n",
    "    b = c1 - a\n",
    "    cx = c2 - a\n",
    "    d = N - (c1 + c2 - c12)\n",
    "    \n",
    "    # Expected frequencies based on independence\n",
    "    e_w1 = (c1 * c2) / N\n",
    "    e_w2 = (c1 * (N - c2)) / N\n",
    "    e_w3 = ((N - c1) * c2) / N\n",
    "    e_w4 = ((N - c1) * (N - c2)) / N\n",
    "    \n",
    "    # Chi-square computation\n",
    "    chi_value = (\n",
    "        ((a - e_w1)**2 / e_w1 if e_w1 > 0 else 0) +\n",
    "        ((b - e_w2)**2 / e_w2 if e_w2 > 0 else 0) +\n",
    "        ((cx - e_w3)**2 / e_w3 if e_w3 > 0 else 0) +\n",
    "        ((d - e_w4)**2 / e_w4 if e_w4 > 0 else 0)\n",
    "    )\n",
    "    \n",
    "    return {'chi_value': chi_value, 'word1': w1, 'word2': w2}\n",
    "\n",
    "# Example usage\n",
    "word1, word2 = 'sastra', 'university'\n",
    "c1 = unigram_counts[word1]\n",
    "c2 = unigram_counts[word2]\n",
    "c12 = bigram_counts[(word1, word2)]\n",
    "\n",
    "result = chi_2_text(word1, word2, c1, c2, c12)\n",
    "print(f\"Chi-square value for '{word1} {word2}':\", result['chi_value'])\n",
    "if result['chi_value'] > 3.841:\n",
    "    print(f\"'{word1} {word2}' forms a collocation with chi-square value {result['chi_value']: }\")\n",
    "else:\n",
    "    print(f\"'{word1} {word2}' does not form a collocation with chi-square value {result['chi_value']: }\")"
   ]
  },
  {
   "cell_type": "code",
   "execution_count": null,
   "id": "32adb4e8-62bd-401b-a8f1-704bdcb5029e",
   "metadata": {},
   "outputs": [],
   "source": []
  }
 ],
 "metadata": {
  "kernelspec": {
   "display_name": "Python 3 (ipykernel)",
   "language": "python",
   "name": "python3"
  },
  "language_info": {
   "codemirror_mode": {
    "name": "ipython",
    "version": 3
   },
   "file_extension": ".py",
   "mimetype": "text/x-python",
   "name": "python",
   "nbconvert_exporter": "python",
   "pygments_lexer": "ipython3",
   "version": "3.12.2"
  }
 },
 "nbformat": 4,
 "nbformat_minor": 5
}
