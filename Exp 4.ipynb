{
 "cells": [
  {
   "cell_type": "code",
   "execution_count": 11,
   "id": "25466992-86e2-4bbe-ae97-1be655be4a17",
   "metadata": {},
   "outputs": [
    {
     "name": "stdin",
     "output_type": "stream",
     "text": [
      "Enter the Noun:  a phone\n",
      "Enter the Verb:  saw\n",
      "Enter the Preposition:  with\n"
     ]
    },
    {
     "name": "stdout",
     "output_type": "stream",
     "text": [
      "The Preposition is attached with Verb.\n"
     ]
    }
   ],
   "source": [
    "import math\n",
    "from nltk.tokenize import word_tokenize\n",
    "from nltk import bigrams\n",
    "\n",
    "with open(\"C:\\\\Users\\\\91939\\\\Dropbox\\\\Sem 5\\\\NLP\\\\LAB\\\\Lab 4 Hindle and Rooth Algo\\\\Attachment ambiguity WITH.csv\", 'r') as file:\n",
    "    corpus = file.read()\n",
    "tokens = word_tokenize(corpus.lower())\n",
    "element_counts = {}\n",
    "for element in tokens:\n",
    "    element_counts[element] = element_counts.get(element, 0) + 1\n",
    "bi_grams = list(bigrams(tokens))\n",
    "bigram_counts = {}\n",
    "for bigram in bi_grams:\n",
    "    bigram_counts[bigram] = bigram_counts.get(bigram, 0) + 1\n",
    "\n",
    "noun = input(\"Enter the Noun: \")\n",
    "verb = input(\"Enter the Verb: \")\n",
    "prep = input(\"Enter the Preposition: \")\n",
    "\n",
    "n = element_counts.get(noun, 0)\n",
    "v = element_counts.get(verb, 0)\n",
    "p_n = bigram_counts.get((prep, noun), 0)\n",
    "p_v = bigram_counts.get((prep, verb), 0)\n",
    "\n",
    "def cal_prob(p_v, p_n, v, n):\n",
    "    prob_v = p_v / v if v > 0 else 0\n",
    "    prob_n = p_n / n if n > 0 else 0\n",
    "    return prob_v, prob_n\n",
    "\n",
    "prob_v, prob_n = cal_prob(p_v, p_n, v, n)\n",
    "\n",
    "def cal_lam(prob_v, prob_n):\n",
    "    if prob_n == 0:  # Prevent division by zero\n",
    "        return float('inf')  # or some other value that indicates an undefined state\n",
    "    _lambda = math.log((prob_v * (1 - prob_n)) / prob_n, 2)\n",
    "    return _lambda\n",
    "\n",
    "_lambda = cal_lam(prob_v, prob_n)\n",
    "\n",
    "if _lambda > 0:\n",
    "    print(\"The Preposition is attached with Verb.\")\n",
    "elif _lambda < 0:\n",
    "    print(\"The Preposition is attached with Noun.\")\n",
    "else:\n",
    "    print(\"The Preposition attachment cannot be determined.\")"
   ]
  },
  {
   "cell_type": "code",
   "execution_count": null,
   "id": "5e09fcd6-7913-432f-8aaf-6a1a1995fd6b",
   "metadata": {},
   "outputs": [],
   "source": []
  }
 ],
 "metadata": {
  "kernelspec": {
   "display_name": "Python 3 (ipykernel)",
   "language": "python",
   "name": "python3"
  },
  "language_info": {
   "codemirror_mode": {
    "name": "ipython",
    "version": 3
   },
   "file_extension": ".py",
   "mimetype": "text/x-python",
   "name": "python",
   "nbconvert_exporter": "python",
   "pygments_lexer": "ipython3",
   "version": "3.12.2"
  }
 },
 "nbformat": 4,
 "nbformat_minor": 5
}
