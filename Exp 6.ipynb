{
 "cells": [
  {
   "cell_type": "code",
   "execution_count": 1,
   "id": "5866f130-cd0e-46f7-83a3-0a0fd86095de",
   "metadata": {},
   "outputs": [
    {
     "name": "stdout",
     "output_type": "stream",
     "text": [
      "VITERBI ALGORITHM\n"
     ]
    },
    {
     "name": "stdin",
     "output_type": "stream",
     "text": [
      "Enter number of states:  2\n"
     ]
    },
    {
     "name": "stdout",
     "output_type": "stream",
     "text": [
      "\n",
      "Initial probability for each state:\n",
      "\n"
     ]
    },
    {
     "name": "stdin",
     "output_type": "stream",
     "text": [
      "Enter initial probability for state 0:  1\n",
      "Enter the state name:  cp\n",
      "Enter initial probability for state 1:  0\n",
      "Enter the state name:  ip\n"
     ]
    },
    {
     "name": "stdout",
     "output_type": "stream",
     "text": [
      "{0: 1.0, 1: 0.0}\n"
     ]
    },
    {
     "name": "stdin",
     "output_type": "stream",
     "text": [
      "Enter the output sequence (space-separated):  lem ice-t cola\n"
     ]
    },
    {
     "name": "stdout",
     "output_type": "stream",
     "text": [
      "\n",
      "Output sequence: lem ice-t cola\n",
      "\n",
      "State EMISSION schema:\n"
     ]
    },
    {
     "name": "stdin",
     "output_type": "stream",
     "text": [
      "Enter the emission states (space-separated):  cola ice-t lem\n"
     ]
    },
    {
     "name": "stdout",
     "output_type": "stream",
     "text": [
      "\n",
      "Output emissions: lem ice-t cola\n"
     ]
    },
    {
     "name": "stdin",
     "output_type": "stream",
     "text": [
      "Enter the emission probability for state 0 to emission 'cola':  0.6\n",
      "Enter the emission probability for state 0 to emission 'ice-t':  0.1\n",
      "Enter the emission probability for state 0 to emission 'lem':  0.3\n",
      "Enter the emission probability for state 1 to emission 'cola':  0.1\n",
      "Enter the emission probability for state 1 to emission 'ice-t':  0.7\n",
      "Enter the emission probability for state 1 to emission 'lem':  0.2\n"
     ]
    },
    {
     "name": "stdout",
     "output_type": "stream",
     "text": [
      "\n",
      "State TRANSITION schema:\n"
     ]
    },
    {
     "name": "stdin",
     "output_type": "stream",
     "text": [
      "Enter the transition probability from state 0 to state 0:  0.7\n",
      "Enter the transition probability from state 0 to state 1:  0.3\n",
      "Enter the transition probability from state 1 to state 0:  0.5\n",
      "Enter the transition probability from state 1 to state 1:  0.5\n"
     ]
    },
    {
     "name": "stdout",
     "output_type": "stream",
     "text": [
      "Best state sequence: ['cp', 'cp', 'cp']\n"
     ]
    }
   ],
   "source": [
    "def max_state_addition(lists):  \n",
    "    \"\"\"Returns the index of the maximum value in the list.\"\"\"  \n",
    "    value = max(lists)  \n",
    "    return lists.index(value)  \n",
    "\n",
    "def viterbi(n, out, transition, emit, delta):  \n",
    "    \"\"\"Viterbi algorithm implementation to compute the most probable states.\"\"\"  \n",
    "    maximum = []  \n",
    "    for i in range(n):  # For each destination state  \n",
    "        lists = []  \n",
    "        for j in range(n):  # For each source state  \n",
    "            value = delta[j] * emit[j, out] * transition[j, i]  \n",
    "            lists.append(value)  \n",
    "        maximum.append(max(lists))  \n",
    "    return maximum  \n",
    "\n",
    "def main():  \n",
    "    print(\"VITERBI ALGORITHM\")  \n",
    "    \n",
    "    n = int(input(\"Enter number of states: \"))  # Number of states  \n",
    "    print(\"\\nInitial probability for each state:\\n\")  \n",
    "    \n",
    "    prob = {}  \n",
    "    state_name = {}  \n",
    "    \n",
    "    for i in range(n):  \n",
    "        prob[i] = float(input(f\"Enter initial probability for state {i}: \"))  \n",
    "        s = input(\"Enter the state name: \")  \n",
    "        state_name[i] = s  \n",
    "\n",
    "    print(prob)  \n",
    "    \n",
    "    output = input(\"Enter the output sequence (space-separated): \")  \n",
    "    print(\"\\nOutput sequence:\", output)  \n",
    "    out = output.split()  \n",
    "\n",
    "    print(\"\\nState EMISSION schema:\")  \n",
    "    output1 = input(\"Enter the emission states (space-separated): \")  \n",
    "    print(\"\\nOutput emissions:\", output)  \n",
    "    out1 = output1.split()  \n",
    "    \n",
    "    emit = {}  \n",
    "    for i in range(n):  \n",
    "        for j in out1:  \n",
    "            emit[i, j] = float(input(f\"Enter the emission probability for state {i} to emission '{j}': \"))  \n",
    "    \n",
    "    print(\"\\nState TRANSITION schema:\")  \n",
    "    transition = {}  \n",
    "    for i in range(n):  \n",
    "        for j in range(n):  \n",
    "            transition[i, j] = float(input(f\"Enter the transition probability from state {i} to state {j}: \"))  \n",
    "    \n",
    "    delta = [[0] * n for _ in range(len(out) + 1)]  \n",
    "    for i in range(n):  \n",
    "        delta[0][i] = prob[i]  # Initialize delta for the first symbol  \n",
    "\n",
    "    for c in range(len(out)):  \n",
    "        new_probs = viterbi(n, out[c], transition, emit, delta[c])  \n",
    "        delta[c + 1] = new_probs  \n",
    "\n",
    "    # Backtracking to find the best state sequence  \n",
    "    best_seq_rev = []  \n",
    "    for i in range(len(out)):  \n",
    "        if i == 0:  \n",
    "            best_seq_rev.append(max_state_addition(delta[i]))  \n",
    "        else:  \n",
    "            best_seq_rev.append(max_state_addition(delta[i]))  \n",
    "\n",
    "    best_seq = [state_name[state] for state in best_seq_rev]  \n",
    "    print(\"Best state sequence:\", best_seq)  \n",
    "\n",
    "if __name__ == \"__main__\":  \n",
    "    main()"
   ]
  },
  {
   "cell_type": "code",
   "execution_count": null,
   "id": "e5e5a8c4-c529-40f5-b1b2-b43f40620499",
   "metadata": {},
   "outputs": [],
   "source": []
  }
 ],
 "metadata": {
  "kernelspec": {
   "display_name": "Python 3 (ipykernel)",
   "language": "python",
   "name": "python3"
  },
  "language_info": {
   "codemirror_mode": {
    "name": "ipython",
    "version": 3
   },
   "file_extension": ".py",
   "mimetype": "text/x-python",
   "name": "python",
   "nbconvert_exporter": "python",
   "pygments_lexer": "ipython3",
   "version": "3.12.2"
  }
 },
 "nbformat": 4,
 "nbformat_minor": 5
}
