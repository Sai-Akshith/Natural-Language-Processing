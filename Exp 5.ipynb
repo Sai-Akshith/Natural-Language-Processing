{
 "cells": [
  {
   "cell_type": "code",
   "execution_count": 1,
   "id": "642c473d-dbed-4cb2-91e5-eb6a9d7bd95e",
   "metadata": {},
   "outputs": [
    {
     "ename": "NameError",
     "evalue": "name 'obs_sequence' is not defined",
     "output_type": "error",
     "traceback": [
      "\u001b[1;31m---------------------------------------------------------------------------\u001b[0m",
      "\u001b[1;31mNameError\u001b[0m                                 Traceback (most recent call last)",
      "Cell \u001b[1;32mIn[1], line 58\u001b[0m\n\u001b[0;32m     55\u001b[0m     \u001b[38;5;28;01mreturn\u001b[39;00m beta\n\u001b[0;32m     57\u001b[0m \u001b[38;5;66;03m# Running Forward and Backward\u001b[39;00m\n\u001b[1;32m---> 58\u001b[0m alpha \u001b[38;5;241m=\u001b[39m forward(\u001b[43mobs_sequence\u001b[49m, states, initial_probs, transition_matrix, emission_matrix)\n\u001b[0;32m     59\u001b[0m beta \u001b[38;5;241m=\u001b[39m backward(obs_sequence, states, transition_matrix, emission_matrix)\n\u001b[0;32m     61\u001b[0m \u001b[38;5;66;03m# Display the results\u001b[39;00m\n",
      "\u001b[1;31mNameError\u001b[0m: name 'obs_sequence' is not defined"
     ]
    }
   ],
   "source": [
    "import numpy as np\n",
    "\n",
    "# State names\n",
    "states = ['Sunny', 'Rainy']\n",
    "\n",
    "# Observations\n",
    "observations = ['Walk', 'Shop', 'Clean']\n",
    "\n",
    "# Transition probabilities (A)\n",
    "transition_matrix = np.array([\n",
    "    [0.7, 0.3],  # Sunny -> Sunny, Sunny -> Rainy\n",
    "    [0.4, 0.6]   # Rainy -> Sunny, Rainy -> Rainy\n",
    "])\n",
    "\n",
    "# Emission probabilities (B)\n",
    "emission_matrix = np.array([\n",
    "    [0.1, 0.4, 0.5],  # Sunny -> Walk, Shop, Clean\n",
    "    [0.6, 0.3, 0.1]   # Rainy -> Walk, Shop, Clean\n",
    "])\n",
    "\n",
    "# Forward algorithm\n",
    "def forward(obs_sequence, states, initial_probs, transition_matrix, emission_matrix):\n",
    "    T = len(obs_sequence)\n",
    "    N = len(states)\n",
    "    \n",
    "    # Alpha table to store forward probabilities\n",
    "    alpha = np.zeros((T, N))\n",
    "    \n",
    "    # Initial step\n",
    "    alpha[0] = initial_probs * emission_matrix[:, obs_sequence[0]]\n",
    "    \n",
    "    # Recursion step\n",
    "    for t in range(1, T):\n",
    "        for j in range(N):\n",
    "            alpha[t, j] = np.sum(alpha[t - 1] * transition_matrix[:, j]) * emission_matrix[j, obs_sequence[t]]\n",
    "    \n",
    "    return alpha\n",
    "\n",
    "# Backward algorithm\n",
    "def backward(obs_sequence, states, transition_matrix, emission_matrix):\n",
    "    T = len(obs_sequence)\n",
    "    N = len(states)\n",
    "    \n",
    "    # Beta table to store backward probabilities\n",
    "    beta = np.zeros((T, N))\n",
    "    \n",
    "    # Initial step (Last step of the sequence)\n",
    "    beta[T - 1] = np.ones(N)\n",
    "    \n",
    "    # Recursion step\n",
    "    for t in range(T - 2, -1, -1):\n",
    "        for i in range(N):\n",
    "            beta[t, i] = np.sum(transition_matrix[i] * emission_matrix[:, obs_sequence[t + 1]] * beta[t + 1])\n",
    "    \n",
    "    return beta\n",
    "\n",
    "# Running Forward and Backward\n",
    "alpha = forward(obs_sequence, states, initial_probs, transition_matrix, emission_matrix)\n",
    "beta = backward(obs_sequence, states, transition_matrix, emission_matrix)\n",
    "\n",
    "# Display the results\n",
    "print(\"Forward (Alpha) probabilities:\\n\", alpha)\n",
    "print(\"Backward (Beta) probabilities:\\n\", beta)\n"
   ]
  },
  {
   "cell_type": "code",
   "execution_count": null,
   "id": "c0380719-8c30-4780-aa6e-89ff7bcf3362",
   "metadata": {},
   "outputs": [],
   "source": []
  }
 ],
 "metadata": {
  "kernelspec": {
   "display_name": "Python 3 (ipykernel)",
   "language": "python",
   "name": "python3"
  },
  "language_info": {
   "codemirror_mode": {
    "name": "ipython",
    "version": 3
   },
   "file_extension": ".py",
   "mimetype": "text/x-python",
   "name": "python",
   "nbconvert_exporter": "python",
   "pygments_lexer": "ipython3",
   "version": "3.12.2"
  }
 },
 "nbformat": 4,
 "nbformat_minor": 5
}
